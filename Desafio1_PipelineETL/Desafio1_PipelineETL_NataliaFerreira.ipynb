{
  "nbformat": 4,
  "nbformat_minor": 0,
  "metadata": {
    "colab": {
      "provenance": []
    },
    "kernelspec": {
      "name": "python3",
      "display_name": "Python 3"
    },
    "language_info": {
      "name": "python"
    }
  },
  "cells": [
    {
      "cell_type": "code",
      "source": [
        "\"\"\"\n",
        "TÍTULO\n",
        "Análise de Dados em um Radar de Velocidade\n",
        "\n",
        "Autor: Natália Ferreira\n",
        "User Github: Natferrx\n",
        "Data de Criação: 30/08/2023\n",
        "\n",
        "OBJETIVO\n",
        "O objetivo é demonstrar como usar o Python e a biblioteca Pandas para extrair, transformar e\n",
        "analisar dados.\n",
        "\n",
        "CONTEXTO\n",
        "Este código faz a leitura de dados fictícios de carros que passam por um radar de velocidade realiza análises simples\n",
        "para calcular a velocidade média, identificar carros acima do limite de velocidade e contar carros abaixo\n",
        "do limite.\n",
        "\n",
        "ENTRADAS\n",
        "O arquivo CSV contém as seguintes colunas:\n",
        "- \"Placa do Carro\": Placa fictícia no formato AAA-1111.\n",
        "- \"Velocidade\": Velocidade do carro em km/h.\n",
        "- \"Data\": Data de passagem do carro pela estrada.\n",
        "\n",
        "ETAPAS E RESULTADOS\n",
        "O código realiza as seguintes etapas:\n",
        "1. Lê os dados do arquivo CSV.\n",
        "2. Calcula a velocidade média de todos os carros.\n",
        "3. Conta e identifica carros acima do limite de velocidade (80 km/h).\n",
        "4. Imprime os resultados das análises.\n",
        "\n",
        "Observação: Certifique-se de ter o arquivo chamado dados_carros.csv no mesmo diretório do script com os dados apropriados.\n",
        "\n",
        "\"\"\"\n",
        "\n",
        "# Importa a biblioteca Pandas para trabalhar com dados tabulares\n",
        "import pandas as pd\n",
        "\n",
        "# PASSO 1 - EXTRAÇÃO\n",
        "\n",
        "# Lê o arquivo CSV usando Pandas e coloca os dados em um DataFrame (tabela).\n",
        "df = pd.read_csv('dados_carros.csv')\n",
        "\n",
        "# PASSO 2 - TRANSFORMAÇÃO\n",
        "\n",
        "# Calcula a velocidade média\n",
        "velocidade_media = df['Velocidade'].mean()\n",
        "\n",
        "# Define as variáveis iniciais para a velocidade dos carros e o valor limite da velocidade do radar\n",
        "carros_acima_limite = 0\n",
        "carros_abaixo_limite = 0\n",
        "limite_radar = 80\n",
        "\n",
        "# Verifica se cada carro está acima ou abaixo do limite\n",
        "for velocidade in df['Velocidade']: #A função For faz um looping na coluna Velocidade\n",
        "    if velocidade > limite_radar: #Se a velocidade estiver acima do limite acrescenta +1 valor na variável carros_acima_velocidade\n",
        "        carros_acima_limite += 1\n",
        "    else:\n",
        "        carros_abaixo_limite += 1 #Se a velocidade estiver abaixo do limite acrescenta +1 valor na variável carros_abaixo_velocidade\n",
        "\n",
        "# PASSO 3 - CARREGAMENTO\n",
        "\n",
        "# Imprime resultados de forma organizada\n",
        "print(f\"Velocidade média: {velocidade_media:.2f} km/h\")\n",
        "print(f\"Total de carros: {num_rows}\")\n",
        "print(f\"Qtd. Carros acima do limite: {carros_acima_limite}\")\n",
        "print(f\"Qtd. Carros abaixo do limite: {carros_abaixo_limite}\")\n"
      ],
      "metadata": {
        "colab": {
          "base_uri": "https://localhost:8080/"
        },
        "id": "9_mePrlKP3Wt",
        "outputId": "e9596a89-205d-4472-ff65-92aa3a7782f2"
      },
      "execution_count": null,
      "outputs": [
        {
          "output_type": "stream",
          "name": "stdout",
          "text": [
            "Velocidade média: 75.96 km/h\n",
            "Total de carros: 120\n",
            "Qtd. Carros acima do limite: 53\n",
            "Qtd. Carros abaixo do limite: 67\n"
          ]
        }
      ]
    }
  ]
}